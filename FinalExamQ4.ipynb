{
  "nbformat": 4,
  "nbformat_minor": 0,
  "metadata": {
    "colab": {
      "provenance": []
    },
    "kernelspec": {
      "name": "python3",
      "display_name": "Python 3"
    },
    "language_info": {
      "name": "python"
    }
  },
  "cells": [
    {
      "cell_type": "code",
      "execution_count": null,
      "metadata": {
        "id": "H0z-whhNBvMg"
      },
      "outputs": [],
      "source": [
        "import numpy as np\n",
        "import pandas as pd"
      ]
    },
    {
      "cell_type": "code",
      "source": [
        "dataset = pd.read_csv(\"credit_fraud_data.csv\")"
      ],
      "metadata": {
        "id": "IdN7mcCXH5Qv"
      },
      "execution_count": null,
      "outputs": []
    },
    {
      "cell_type": "code",
      "source": [
        "values_to_print = dataset.sample(25)\n",
        "print(values_to_print)"
      ],
      "metadata": {
        "colab": {
          "base_uri": "https://localhost:8080/"
        },
        "id": "fRTQF-gpJB8Y",
        "outputId": "bce2a412-ce41-44e8-b4c0-faf0d18be6db"
      },
      "execution_count": null,
      "outputs": [
        {
          "output_type": "stream",
          "name": "stdout",
          "text": [
            "    Gender   Age  Annual_Income  Credit_Score   Loan_Amount  Previous_Default  \\\n",
            "49  Female  52.0  147908.995179         406.0  25637.178280               NaN   \n",
            "32  Female  52.0  148085.068964         723.0  30989.432697               1.0   \n",
            "6   Female  65.0   59975.553079         607.0   7491.844419               0.0   \n",
            "22  Female  59.0   42343.603043         624.0  31441.983584               0.0   \n",
            "47  Female  41.0   46796.710259         636.0  25561.013974               1.0   \n",
            "79    Male  58.0   96509.092210         426.0  48154.222484               0.0   \n",
            "73    Male  18.0  149087.567867         802.0  22929.541638               0.0   \n",
            "28  Female  18.0   68519.668965         507.0  40990.814806               0.0   \n",
            "67    Male   NaN  102990.343902         653.0  30908.802292               1.0   \n",
            "35  Female  21.0   83751.140624           NaN   6591.309609               1.0   \n",
            "75  Female  37.0  111490.873875         437.0  24081.451335               1.0   \n",
            "31    Male  54.0   41671.191248         304.0  18806.454480               1.0   \n",
            "87  Female  61.0   40235.467903         565.0  47538.569007               1.0   \n",
            "72    Male  50.0  113891.768966         671.0  33300.429758               0.0   \n",
            "46     NaN  61.0   79367.606851         359.0  29471.267753               0.0   \n",
            "54  Female  64.0   31995.356848         804.0  36482.992441               0.0   \n",
            "17    Male  31.0  115928.943747         581.0  36364.875878               1.0   \n",
            "10  Female  58.0  109160.209448         460.0  35747.660100               1.0   \n",
            "4   Female  24.0   79418.416676         491.0  17164.755736               NaN   \n",
            "5   Female  22.0            NaN         495.0  10916.725968               1.0   \n",
            "24    Male  18.0   72485.599450         527.0  21688.375965               0.0   \n",
            "0     Male  60.0   83903.728586         316.0  23924.276001               1.0   \n",
            "97  Female  21.0  111249.788883         428.0  16337.344471               1.0   \n",
            "38  Female  31.0   86309.900879         590.0  29127.987262               0.0   \n",
            "12    Male  33.0   57663.962821         755.0  17758.348096               1.0   \n",
            "\n",
            "    Fraud_Risk  \n",
            "49    0.710528  \n",
            "32    0.248413  \n",
            "6     0.633998  \n",
            "22    0.967795  \n",
            "47    0.680514  \n",
            "79    0.016872  \n",
            "73    0.948861  \n",
            "28    0.552078  \n",
            "67    0.279068  \n",
            "35    0.373035  \n",
            "75    0.647197  \n",
            "31    0.401714  \n",
            "87    0.519952  \n",
            "72         NaN  \n",
            "46    0.740098  \n",
            "54    0.543678  \n",
            "17    0.417486  \n",
            "10    0.699575  \n",
            "4     0.502389  \n",
            "5     0.942584  \n",
            "24    0.274824  \n",
            "0     0.449292  \n",
            "97    0.871786  \n",
            "38    0.333507  \n",
            "12    0.994401  \n"
          ]
        }
      ]
    },
    {
      "cell_type": "code",
      "source": [
        "dataset.dropna(inplace = True)"
      ],
      "metadata": {
        "id": "rlEBHR3nJfgu"
      },
      "execution_count": null,
      "outputs": []
    },
    {
      "cell_type": "code",
      "source": [
        "X = dataset.iloc[:, :-1]\n",
        "Y = dataset.iloc[:, -1]\n",
        "\n",
        "gender = pd.get_dummies(X['Gender'], drop_first= True)\n",
        "\n",
        "X = pd.concat([X, gender], axis=1)\n",
        "\n",
        "X = X.drop('Gender', axis=1)\n",
        "\n",
        "print(X)"
      ],
      "metadata": {
        "colab": {
          "base_uri": "https://localhost:8080/"
        },
        "id": "TtT_Ta0YKPsW",
        "outputId": "865812b6-2c1e-48c8-9c24-0aa237fcb770"
      },
      "execution_count": null,
      "outputs": [
        {
          "output_type": "stream",
          "name": "stdout",
          "text": [
            "     Age  Annual_Income  Credit_Score   Loan_Amount  Previous_Default  Male\n",
            "0   60.0   83903.728586         316.0  23924.276001               1.0     1\n",
            "1   38.0  147428.511410         406.0  30081.595610               1.0     0\n",
            "2   29.0   43944.229153         464.0  43724.802822               1.0     0\n",
            "3   22.0  122042.844427         836.0  37716.991822               1.0     1\n",
            "6   65.0   59975.553079         607.0   7491.844419               0.0     0\n",
            "..   ...            ...           ...           ...               ...   ...\n",
            "91  26.0  147168.526391         574.0  15473.485818               0.0     0\n",
            "92  37.0  104118.949932         669.0  32650.911791               1.0     1\n",
            "93  49.0   95099.853001         526.0   6488.356616               0.0     1\n",
            "94  26.0  132553.629637         525.0   5702.272900               0.0     0\n",
            "97  21.0  111249.788883         428.0  16337.344471               1.0     0\n",
            "\n",
            "[67 rows x 6 columns]\n"
          ]
        }
      ]
    },
    {
      "cell_type": "code",
      "source": [
        "from sklearn.model_selection import train_test_split\n",
        "\n",
        "X_train, X_test, Y_train, Y_test = train_test_split(X, Y, test_size=0.24, random_state=0)"
      ],
      "metadata": {
        "id": "tGu9aZwJLGET"
      },
      "execution_count": null,
      "outputs": []
    },
    {
      "cell_type": "code",
      "source": [
        "from sklearn.linear_model import LinearRegression\n",
        "\n",
        "model = LinearRegression()\n",
        "\n",
        "model.fit(X_train, Y_train)"
      ],
      "metadata": {
        "colab": {
          "base_uri": "https://localhost:8080/",
          "height": 74
        },
        "id": "7Y5d5lcNLPRT",
        "outputId": "7c6fb937-bf33-4304-f8de-3e51695755a4"
      },
      "execution_count": null,
      "outputs": [
        {
          "output_type": "execute_result",
          "data": {
            "text/plain": [
              "LinearRegression()"
            ],
            "text/html": [
              "<style>#sk-container-id-1 {color: black;background-color: white;}#sk-container-id-1 pre{padding: 0;}#sk-container-id-1 div.sk-toggleable {background-color: white;}#sk-container-id-1 label.sk-toggleable__label {cursor: pointer;display: block;width: 100%;margin-bottom: 0;padding: 0.3em;box-sizing: border-box;text-align: center;}#sk-container-id-1 label.sk-toggleable__label-arrow:before {content: \"▸\";float: left;margin-right: 0.25em;color: #696969;}#sk-container-id-1 label.sk-toggleable__label-arrow:hover:before {color: black;}#sk-container-id-1 div.sk-estimator:hover label.sk-toggleable__label-arrow:before {color: black;}#sk-container-id-1 div.sk-toggleable__content {max-height: 0;max-width: 0;overflow: hidden;text-align: left;background-color: #f0f8ff;}#sk-container-id-1 div.sk-toggleable__content pre {margin: 0.2em;color: black;border-radius: 0.25em;background-color: #f0f8ff;}#sk-container-id-1 input.sk-toggleable__control:checked~div.sk-toggleable__content {max-height: 200px;max-width: 100%;overflow: auto;}#sk-container-id-1 input.sk-toggleable__control:checked~label.sk-toggleable__label-arrow:before {content: \"▾\";}#sk-container-id-1 div.sk-estimator input.sk-toggleable__control:checked~label.sk-toggleable__label {background-color: #d4ebff;}#sk-container-id-1 div.sk-label input.sk-toggleable__control:checked~label.sk-toggleable__label {background-color: #d4ebff;}#sk-container-id-1 input.sk-hidden--visually {border: 0;clip: rect(1px 1px 1px 1px);clip: rect(1px, 1px, 1px, 1px);height: 1px;margin: -1px;overflow: hidden;padding: 0;position: absolute;width: 1px;}#sk-container-id-1 div.sk-estimator {font-family: monospace;background-color: #f0f8ff;border: 1px dotted black;border-radius: 0.25em;box-sizing: border-box;margin-bottom: 0.5em;}#sk-container-id-1 div.sk-estimator:hover {background-color: #d4ebff;}#sk-container-id-1 div.sk-parallel-item::after {content: \"\";width: 100%;border-bottom: 1px solid gray;flex-grow: 1;}#sk-container-id-1 div.sk-label:hover label.sk-toggleable__label {background-color: #d4ebff;}#sk-container-id-1 div.sk-serial::before {content: \"\";position: absolute;border-left: 1px solid gray;box-sizing: border-box;top: 0;bottom: 0;left: 50%;z-index: 0;}#sk-container-id-1 div.sk-serial {display: flex;flex-direction: column;align-items: center;background-color: white;padding-right: 0.2em;padding-left: 0.2em;position: relative;}#sk-container-id-1 div.sk-item {position: relative;z-index: 1;}#sk-container-id-1 div.sk-parallel {display: flex;align-items: stretch;justify-content: center;background-color: white;position: relative;}#sk-container-id-1 div.sk-item::before, #sk-container-id-1 div.sk-parallel-item::before {content: \"\";position: absolute;border-left: 1px solid gray;box-sizing: border-box;top: 0;bottom: 0;left: 50%;z-index: -1;}#sk-container-id-1 div.sk-parallel-item {display: flex;flex-direction: column;z-index: 1;position: relative;background-color: white;}#sk-container-id-1 div.sk-parallel-item:first-child::after {align-self: flex-end;width: 50%;}#sk-container-id-1 div.sk-parallel-item:last-child::after {align-self: flex-start;width: 50%;}#sk-container-id-1 div.sk-parallel-item:only-child::after {width: 0;}#sk-container-id-1 div.sk-dashed-wrapped {border: 1px dashed gray;margin: 0 0.4em 0.5em 0.4em;box-sizing: border-box;padding-bottom: 0.4em;background-color: white;}#sk-container-id-1 div.sk-label label {font-family: monospace;font-weight: bold;display: inline-block;line-height: 1.2em;}#sk-container-id-1 div.sk-label-container {text-align: center;}#sk-container-id-1 div.sk-container {/* jupyter's `normalize.less` sets `[hidden] { display: none; }` but bootstrap.min.css set `[hidden] { display: none !important; }` so we also need the `!important` here to be able to override the default hidden behavior on the sphinx rendered scikit-learn.org. See: https://github.com/scikit-learn/scikit-learn/issues/21755 */display: inline-block !important;position: relative;}#sk-container-id-1 div.sk-text-repr-fallback {display: none;}</style><div id=\"sk-container-id-1\" class=\"sk-top-container\"><div class=\"sk-text-repr-fallback\"><pre>LinearRegression()</pre><b>In a Jupyter environment, please rerun this cell to show the HTML representation or trust the notebook. <br />On GitHub, the HTML representation is unable to render, please try loading this page with nbviewer.org.</b></div><div class=\"sk-container\" hidden><div class=\"sk-item\"><div class=\"sk-estimator sk-toggleable\"><input class=\"sk-toggleable__control sk-hidden--visually\" id=\"sk-estimator-id-1\" type=\"checkbox\" checked><label for=\"sk-estimator-id-1\" class=\"sk-toggleable__label sk-toggleable__label-arrow\">LinearRegression</label><div class=\"sk-toggleable__content\"><pre>LinearRegression()</pre></div></div></div></div></div>"
            ]
          },
          "metadata": {},
          "execution_count": 10
        }
      ]
    },
    {
      "cell_type": "code",
      "source": [
        "Y_pred = model.predict(X_test)\n",
        "\n",
        "print(model.predict(np.array([29, 150000, 745, 40000, 0, 1]).reshape(1, -1)))\n",
        "\n",
        "from sklearn.metrics import r2_score\n",
        "score = r2_score(Y_test, Y_pred)\n",
        "print(score)"
      ],
      "metadata": {
        "colab": {
          "base_uri": "https://localhost:8080/"
        },
        "id": "wRtLZcDNLY0g",
        "outputId": "8d81ae93-141a-4dfb-c571-dc2d1a9cdb75"
      },
      "execution_count": 13,
      "outputs": [
        {
          "output_type": "stream",
          "name": "stdout",
          "text": [
            "[0.41809779]\n",
            "-0.2870544060322493\n"
          ]
        },
        {
          "output_type": "stream",
          "name": "stderr",
          "text": [
            "/usr/local/lib/python3.10/dist-packages/sklearn/base.py:439: UserWarning: X does not have valid feature names, but LinearRegression was fitted with feature names\n",
            "  warnings.warn(\n"
          ]
        }
      ]
    },
    {
      "cell_type": "markdown",
      "source": [
        "O primeiro valor [0.58625627] corresponde a porcetagem de risco de fraude com base nos dados fornecidos no nosso modelo ou seja, model.predict(np.array([29, 150000, 745, 40000, 0, 1]).reshape(1, -1))\n",
        "\n",
        "O segundo valor corresponde ao r2_score metodo que usamos pra calcular o valor de r2, que é a porcetagem de acerto do modelo com um resultado de -0.28 acredito que significa que o modelo é inviavel e deve passar por revisoes."
      ],
      "metadata": {
        "id": "0_8DVi2-Mu3D"
      }
    }
  ]
}